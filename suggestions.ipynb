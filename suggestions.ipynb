{
  "nbformat": 4,
  "nbformat_minor": 0,
  "metadata": {
    "colab": {
      "provenance": [],
      "authorship_tag": "ABX9TyMWGMRwd8tEef4SLDLZDDKD",
      "include_colab_link": true
    },
    "kernelspec": {
      "name": "python3",
      "display_name": "Python 3"
    },
    "language_info": {
      "name": "python"
    }
  },
  "cells": [
    {
      "cell_type": "markdown",
      "metadata": {
        "id": "view-in-github",
        "colab_type": "text"
      },
      "source": [
        "<a href=\"https://colab.research.google.com/github/Dilukshan-S/FutureX/blob/main/suggestions.ipynb\" target=\"_parent\"><img src=\"https://colab.research.google.com/assets/colab-badge.svg\" alt=\"Open In Colab\"/></a>"
      ]
    },
    {
      "cell_type": "code",
      "execution_count": null,
      "metadata": {
        "colab": {
          "base_uri": "https://localhost:8080/"
        },
        "id": "tJtiPhsgUc23",
        "outputId": "ef77a418-57d3-41ae-958a-b0e999db31e9"
      },
      "outputs": [
        {
          "output_type": "stream",
          "name": "stdout",
          "text": [
            "Index(['happiness', 'sadness', 'anger', 'fear', 'disgust', 'activity'], dtype='object')\n",
            "Suggested activity: ['meditate']\n"
          ]
        },
        {
          "output_type": "stream",
          "name": "stderr",
          "text": [
            "/usr/local/lib/python3.9/dist-packages/sklearn/base.py:420: UserWarning: X does not have valid feature names, but DecisionTreeClassifier was fitted with feature names\n",
            "  warnings.warn(\n"
          ]
        }
      ],
      "source": [
        "import pandas as pd\n",
        "from sklearn.model_selection import train_test_split\n",
        "from sklearn.tree import DecisionTreeClassifier\n",
        "\n",
        "# Load data\n",
        "url = 'https://drive.google.com/file/d/1cynydrPwb2aB1cWNU2nwpDwWSuvgFl7_/view?usp=share_link'\n",
        "file_id = url.split(\"/\")[-2]\n",
        "dwn_url = f\"https://drive.google.com/uc?id={file_id}\"\n",
        "data = pd.read_csv(dwn_url)\n",
        "print(data.columns)\n",
        "\n",
        "# Split data into features and labels\n",
        "X = data.drop('activity', axis=1)\n",
        "y = data['activity']\n",
        "\n",
        "# Split data into training and testing sets\n",
        "X_train, X_test, y_train, y_test = train_test_split(X, y, test_size=0.2, random_state=42)\n",
        "\n",
        "# Train decision tree classifier\n",
        "clf = DecisionTreeClassifier(random_state=42)\n",
        "clf.fit(X_train, y_train)\n",
        "\n",
        "# Predict activities based on emotional states\n",
        "emotions = [0.2, 0.5, 0.3, 0.4, 0.6]\n",
        "activity = clf.predict([emotions])\n",
        "\n",
        "print('Suggested activity:', activity)\n"
      ]
    }
  ]
}